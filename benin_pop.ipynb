{
 "cells": [
  {
   "cell_type": "code",
   "execution_count": 37,
   "id": "a072c553-8a4d-4b1b-ac5b-34e41a3fc21b",
   "metadata": {},
   "outputs": [
    {
     "data": {
      "text/html": [
       "<div>\n",
       "<style scoped>\n",
       "    .dataframe tbody tr th:only-of-type {\n",
       "        vertical-align: middle;\n",
       "    }\n",
       "\n",
       "    .dataframe tbody tr th {\n",
       "        vertical-align: top;\n",
       "    }\n",
       "\n",
       "    .dataframe thead th {\n",
       "        text-align: right;\n",
       "    }\n",
       "</style>\n",
       "<table border=\"1\" class=\"dataframe\">\n",
       "  <thead>\n",
       "    <tr style=\"text-align: right;\">\n",
       "      <th></th>\n",
       "      <th>m_interview</th>\n",
       "      <th>a_interview</th>\n",
       "      <th>m_naissance</th>\n",
       "      <th>a_naissance</th>\n",
       "      <th>age</th>\n",
       "      <th>etude</th>\n",
       "    </tr>\n",
       "  </thead>\n",
       "  <tbody>\n",
       "    <tr>\n",
       "      <th>0</th>\n",
       "      <td>10</td>\n",
       "      <td>2001</td>\n",
       "      <td>7</td>\n",
       "      <td>1976</td>\n",
       "      <td>25</td>\n",
       "      <td>0</td>\n",
       "    </tr>\n",
       "    <tr>\n",
       "      <th>1</th>\n",
       "      <td>10</td>\n",
       "      <td>2001</td>\n",
       "      <td>7</td>\n",
       "      <td>1976</td>\n",
       "      <td>25</td>\n",
       "      <td>0</td>\n",
       "    </tr>\n",
       "    <tr>\n",
       "      <th>2</th>\n",
       "      <td>10</td>\n",
       "      <td>2001</td>\n",
       "      <td>11</td>\n",
       "      <td>1964</td>\n",
       "      <td>36</td>\n",
       "      <td>0</td>\n",
       "    </tr>\n",
       "    <tr>\n",
       "      <th>3</th>\n",
       "      <td>10</td>\n",
       "      <td>2001</td>\n",
       "      <td>11</td>\n",
       "      <td>1964</td>\n",
       "      <td>36</td>\n",
       "      <td>0</td>\n",
       "    </tr>\n",
       "    <tr>\n",
       "      <th>4</th>\n",
       "      <td>10</td>\n",
       "      <td>2001</td>\n",
       "      <td>11</td>\n",
       "      <td>1964</td>\n",
       "      <td>36</td>\n",
       "      <td>0</td>\n",
       "    </tr>\n",
       "  </tbody>\n",
       "</table>\n",
       "</div>"
      ],
      "text/plain": [
       "   m_interview  a_interview  m_naissance  a_naissance  age  etude\n",
       "0           10         2001            7         1976   25      0\n",
       "1           10         2001            7         1976   25      0\n",
       "2           10         2001           11         1964   36      0\n",
       "3           10         2001           11         1964   36      0\n",
       "4           10         2001           11         1964   36      0"
      ]
     },
     "execution_count": 37,
     "metadata": {},
     "output_type": "execute_result"
    }
   ],
   "source": [
    "import pandas as pd\n",
    "import pylab as pl\n",
    "pl.style.use('bmh')\n",
    "\n",
    "pd.options.mode.chained_assignment = None\n",
    "\n",
    "T=pd.read_csv(r'C:\\Users\\julia\\Documents\\python36\\datasource\\data\\Benin.csv')\n",
    "T.head()"
   ]
  },
  {
   "cell_type": "code",
   "execution_count": 38,
   "id": "583d6690-cdc0-43ab-8065-97592cdc9c87",
   "metadata": {},
   "outputs": [
    {
     "data": {
      "text/plain": [
       "35    1508\n",
       "40    1412\n",
       "30    1292\n",
       "45    1284\n",
       "25     988\n",
       "Name: age, dtype: int64"
      ]
     },
     "execution_count": 38,
     "metadata": {},
     "output_type": "execute_result"
    }
   ],
   "source": [
    "S=T['age'].value_counts()\n",
    "S.head()"
   ]
  },
  {
   "cell_type": "code",
   "execution_count": 39,
   "id": "faf522b8-d57c-4133-905f-8b6737d83598",
   "metadata": {},
   "outputs": [
    {
     "data": {
      "text/plain": [
       "15      10\n",
       "16      16\n",
       "17      26\n",
       "18      94\n",
       "19      92\n",
       "20     325\n",
       "21     177\n",
       "22     335\n",
       "23     277\n",
       "24     307\n",
       "25     988\n",
       "26     484\n",
       "27     516\n",
       "28     778\n",
       "29     416\n",
       "30    1292\n",
       "31     483\n",
       "32     881\n",
       "33     587\n",
       "34     389\n",
       "35    1508\n",
       "36     643\n",
       "37     636\n",
       "38     868\n",
       "39     559\n",
       "40    1412\n",
       "41     541\n",
       "42     641\n",
       "43     538\n",
       "44     419\n",
       "45    1284\n",
       "46     419\n",
       "47     485\n",
       "48     651\n",
       "49     321\n",
       "Name: age, dtype: int64"
      ]
     },
     "execution_count": 39,
     "metadata": {},
     "output_type": "execute_result"
    }
   ],
   "source": [
    "A=S.sort_index()\n",
    "A"
   ]
  },
  {
   "cell_type": "code",
   "execution_count": 40,
   "id": "d0aeaa0b-37af-451e-95e4-71bf6e1c6269",
   "metadata": {},
   "outputs": [
    {
     "data": {
      "image/png": "[encoded data removed]",
      "text/plain": [
       "<Figure size 432x288 with 1 Axes>"
      ]
     },
     "metadata": {
      "needs_background": "light"
     },
     "output_type": "display_data"
    }
   ],
   "source": [
    "A.plot(kind='bar')\n",
    "pl.show()"
   ]
  },
  {
   "cell_type": "code",
   "execution_count": 41,
   "id": "0ea64df8-c5f2-4dc4-958c-199ea5510068",
   "metadata": {},
   "outputs": [],
   "source": [
    "def multiple_5(age):\n",
    "    if age % 5 ==0:\n",
    "        return 1\n",
    "    else :\n",
    "        return 0"
   ]
  },
  {
   "cell_type": "code",
   "execution_count": 42,
   "id": "3024d72d-1944-4b96-b4a6-44dcb12bb6de",
   "metadata": {},
   "outputs": [
    {
     "data": {
      "text/html": [
       "<div>\n",
       "<style scoped>\n",
       "    .dataframe tbody tr th:only-of-type {\n",
       "        vertical-align: middle;\n",
       "    }\n",
       "\n",
       "    .dataframe tbody tr th {\n",
       "        vertical-align: top;\n",
       "    }\n",
       "\n",
       "    .dataframe thead th {\n",
       "        text-align: right;\n",
       "    }\n",
       "</style>\n",
       "<table border=\"1\" class=\"dataframe\">\n",
       "  <thead>\n",
       "    <tr style=\"text-align: right;\">\n",
       "      <th></th>\n",
       "      <th>m_interview</th>\n",
       "      <th>a_interview</th>\n",
       "      <th>m_naissance</th>\n",
       "      <th>a_naissance</th>\n",
       "      <th>age</th>\n",
       "      <th>etude</th>\n",
       "      <th>multiple</th>\n",
       "    </tr>\n",
       "  </thead>\n",
       "  <tbody>\n",
       "    <tr>\n",
       "      <th>0</th>\n",
       "      <td>10</td>\n",
       "      <td>2001</td>\n",
       "      <td>7</td>\n",
       "      <td>1976</td>\n",
       "      <td>25</td>\n",
       "      <td>0</td>\n",
       "      <td>1</td>\n",
       "    </tr>\n",
       "    <tr>\n",
       "      <th>1</th>\n",
       "      <td>10</td>\n",
       "      <td>2001</td>\n",
       "      <td>7</td>\n",
       "      <td>1976</td>\n",
       "      <td>25</td>\n",
       "      <td>0</td>\n",
       "      <td>1</td>\n",
       "    </tr>\n",
       "    <tr>\n",
       "      <th>2</th>\n",
       "      <td>10</td>\n",
       "      <td>2001</td>\n",
       "      <td>11</td>\n",
       "      <td>1964</td>\n",
       "      <td>36</td>\n",
       "      <td>0</td>\n",
       "      <td>0</td>\n",
       "    </tr>\n",
       "    <tr>\n",
       "      <th>3</th>\n",
       "      <td>10</td>\n",
       "      <td>2001</td>\n",
       "      <td>11</td>\n",
       "      <td>1964</td>\n",
       "      <td>36</td>\n",
       "      <td>0</td>\n",
       "      <td>0</td>\n",
       "    </tr>\n",
       "    <tr>\n",
       "      <th>4</th>\n",
       "      <td>10</td>\n",
       "      <td>2001</td>\n",
       "      <td>11</td>\n",
       "      <td>1964</td>\n",
       "      <td>36</td>\n",
       "      <td>0</td>\n",
       "      <td>0</td>\n",
       "    </tr>\n",
       "  </tbody>\n",
       "</table>\n",
       "</div>"
      ],
      "text/plain": [
       "   m_interview  a_interview  m_naissance  a_naissance  age  etude  multiple\n",
       "0           10         2001            7         1976   25      0         1\n",
       "1           10         2001            7         1976   25      0         1\n",
       "2           10         2001           11         1964   36      0         0\n",
       "3           10         2001           11         1964   36      0         0\n",
       "4           10         2001           11         1964   36      0         0"
      ]
     },
     "execution_count": 42,
     "metadata": {},
     "output_type": "execute_result"
    }
   ],
   "source": [
    "T['multiple']=T['age'].apply(multiple_5)\n",
    "T.head()"
   ]
  },
  {
   "cell_type": "code",
   "execution_count": 43,
   "id": "243d9833-0868-4fa1-b95b-ce4c60aebf5f",
   "metadata": {},
   "outputs": [
    {
     "data": {
      "text/plain": [
       "m_interview       9.234203\n",
       "a_interview    2001.000000\n",
       "m_naissance       6.595972\n",
       "a_naissance    1965.255728\n",
       "age              35.484846\n",
       "etude             0.000000\n",
       "multiple          0.368438\n",
       "dtype: float64"
      ]
     },
     "execution_count": 43,
     "metadata": {},
     "output_type": "execute_result"
    }
   ],
   "source": [
    "T.query('etude==0').mean()"
   ]
  },
  {
   "cell_type": "code",
   "execution_count": 44,
   "id": "593fb146-e27c-4bad-a785-a89963c77558",
   "metadata": {},
   "outputs": [
    {
     "data": {
      "text/html": [
       "<div>\n",
       "<style scoped>\n",
       "    .dataframe tbody tr th:only-of-type {\n",
       "        vertical-align: middle;\n",
       "    }\n",
       "\n",
       "    .dataframe tbody tr th {\n",
       "        vertical-align: top;\n",
       "    }\n",
       "\n",
       "    .dataframe thead th {\n",
       "        text-align: right;\n",
       "    }\n",
       "</style>\n",
       "<table border=\"1\" class=\"dataframe\">\n",
       "  <thead>\n",
       "    <tr style=\"text-align: right;\">\n",
       "      <th></th>\n",
       "      <th>m_interview</th>\n",
       "      <th>a_interview</th>\n",
       "      <th>m_naissance</th>\n",
       "      <th>a_naissance</th>\n",
       "      <th>age</th>\n",
       "      <th>multiple</th>\n",
       "    </tr>\n",
       "    <tr>\n",
       "      <th>etude</th>\n",
       "      <th></th>\n",
       "      <th></th>\n",
       "      <th></th>\n",
       "      <th></th>\n",
       "      <th></th>\n",
       "      <th></th>\n",
       "    </tr>\n",
       "  </thead>\n",
       "  <tbody>\n",
       "    <tr>\n",
       "      <th>0</th>\n",
       "      <td>9.234203</td>\n",
       "      <td>2001.0</td>\n",
       "      <td>6.595972</td>\n",
       "      <td>1965.255728</td>\n",
       "      <td>35.484846</td>\n",
       "      <td>0.368438</td>\n",
       "    </tr>\n",
       "    <tr>\n",
       "      <th>1</th>\n",
       "      <td>9.182313</td>\n",
       "      <td>2001.0</td>\n",
       "      <td>6.622236</td>\n",
       "      <td>1966.696892</td>\n",
       "      <td>34.016021</td>\n",
       "      <td>0.298943</td>\n",
       "    </tr>\n",
       "    <tr>\n",
       "      <th>2</th>\n",
       "      <td>9.294450</td>\n",
       "      <td>2001.0</td>\n",
       "      <td>6.508937</td>\n",
       "      <td>1965.990593</td>\n",
       "      <td>34.790216</td>\n",
       "      <td>0.276576</td>\n",
       "    </tr>\n",
       "    <tr>\n",
       "      <th>3</th>\n",
       "      <td>9.579710</td>\n",
       "      <td>2001.0</td>\n",
       "      <td>6.405797</td>\n",
       "      <td>1959.304348</td>\n",
       "      <td>41.449275</td>\n",
       "      <td>0.173913</td>\n",
       "    </tr>\n",
       "  </tbody>\n",
       "</table>\n",
       "</div>"
      ],
      "text/plain": [
       "       m_interview  a_interview  m_naissance  a_naissance        age  multiple\n",
       "etude                                                                         \n",
       "0         9.234203       2001.0     6.595972  1965.255728  35.484846  0.368438\n",
       "1         9.182313       2001.0     6.622236  1966.696892  34.016021  0.298943\n",
       "2         9.294450       2001.0     6.508937  1965.990593  34.790216  0.276576\n",
       "3         9.579710       2001.0     6.405797  1959.304348  41.449275  0.173913"
      ]
     },
     "execution_count": 44,
     "metadata": {},
     "output_type": "execute_result"
    }
   ],
   "source": [
    "T11=T.groupby('etude').mean()\n",
    "T11"
   ]
  },
  {
   "cell_type": "code",
   "execution_count": 51,
   "id": "9fd9f911-a27b-4f2e-8f37-e9902efeeb67",
   "metadata": {},
   "outputs": [
    {
     "data": {
      "text/html": [
       "<div>\n",
       "<style scoped>\n",
       "    .dataframe tbody tr th:only-of-type {\n",
       "        vertical-align: middle;\n",
       "    }\n",
       "\n",
       "    .dataframe tbody tr th {\n",
       "        vertical-align: top;\n",
       "    }\n",
       "\n",
       "    .dataframe thead th {\n",
       "        text-align: right;\n",
       "    }\n",
       "</style>\n",
       "<table border=\"1\" class=\"dataframe\">\n",
       "  <thead>\n",
       "    <tr style=\"text-align: right;\">\n",
       "      <th>etude</th>\n",
       "      <th>0</th>\n",
       "      <th>1</th>\n",
       "      <th>2</th>\n",
       "      <th>3</th>\n",
       "    </tr>\n",
       "    <tr>\n",
       "      <th>multiple</th>\n",
       "      <th></th>\n",
       "      <th></th>\n",
       "      <th></th>\n",
       "      <th></th>\n",
       "    </tr>\n",
       "  </thead>\n",
       "  <tbody>\n",
       "    <tr>\n",
       "      <th>0</th>\n",
       "      <td>9565</td>\n",
       "      <td>2188</td>\n",
       "      <td>769</td>\n",
       "      <td>57</td>\n",
       "    </tr>\n",
       "    <tr>\n",
       "      <th>1</th>\n",
       "      <td>5580</td>\n",
       "      <td>933</td>\n",
       "      <td>294</td>\n",
       "      <td>12</td>\n",
       "    </tr>\n",
       "  </tbody>\n",
       "</table>\n",
       "</div>"
      ],
      "text/plain": [
       "etude        0     1    2   3\n",
       "multiple                     \n",
       "0         9565  2188  769  57\n",
       "1         5580   933  294  12"
      ]
     },
     "execution_count": 51,
     "metadata": {},
     "output_type": "execute_result"
    }
   ],
   "source": [
    "T1=pd.crosstab(T['multiple'],T['etude'])\n",
    "T1"
   ]
  },
  {
   "cell_type": "code",
   "execution_count": 52,
   "id": "9384d0ed-ba1a-4f98-84d2-886ad0dadd05",
   "metadata": {},
   "outputs": [
    {
     "data": {
      "text/html": [
       "<div>\n",
       "<style scoped>\n",
       "    .dataframe tbody tr th:only-of-type {\n",
       "        vertical-align: middle;\n",
       "    }\n",
       "\n",
       "    .dataframe tbody tr th {\n",
       "        vertical-align: top;\n",
       "    }\n",
       "\n",
       "    .dataframe thead th {\n",
       "        text-align: right;\n",
       "    }\n",
       "</style>\n",
       "<table border=\"1\" class=\"dataframe\">\n",
       "  <thead>\n",
       "    <tr style=\"text-align: right;\">\n",
       "      <th>multiple</th>\n",
       "      <th>0</th>\n",
       "      <th>1</th>\n",
       "    </tr>\n",
       "    <tr>\n",
       "      <th>etude</th>\n",
       "      <th></th>\n",
       "      <th></th>\n",
       "    </tr>\n",
       "  </thead>\n",
       "  <tbody>\n",
       "    <tr>\n",
       "      <th>0</th>\n",
       "      <td>9565</td>\n",
       "      <td>5580</td>\n",
       "    </tr>\n",
       "    <tr>\n",
       "      <th>1</th>\n",
       "      <td>2188</td>\n",
       "      <td>933</td>\n",
       "    </tr>\n",
       "    <tr>\n",
       "      <th>2</th>\n",
       "      <td>769</td>\n",
       "      <td>294</td>\n",
       "    </tr>\n",
       "    <tr>\n",
       "      <th>3</th>\n",
       "      <td>57</td>\n",
       "      <td>12</td>\n",
       "    </tr>\n",
       "  </tbody>\n",
       "</table>\n",
       "</div>"
      ],
      "text/plain": [
       "multiple     0     1\n",
       "etude               \n",
       "0         9565  5580\n",
       "1         2188   933\n",
       "2          769   294\n",
       "3           57    12"
      ]
     },
     "execution_count": 52,
     "metadata": {},
     "output_type": "execute_result"
    }
   ],
   "source": [
    "T1=pd.crosstab(T['etude'],T['multiple'])\n",
    "T1"
   ]
  },
  {
   "cell_type": "code",
   "execution_count": 50,
   "id": "5b5fa5ee-3156-444e-9c6f-018a1f39ccbe",
   "metadata": {},
   "outputs": [
    {
     "data": {
      "text/plain": [
       "array([[<AxesSubplot:ylabel='0'>, <AxesSubplot:ylabel='1'>,\n",
       "        <AxesSubplot:ylabel='2'>, <AxesSubplot:ylabel='3'>]], dtype=object)"
      ]
     },
     "execution_count": 50,
     "metadata": {},
     "output_type": "execute_result"
    },
    {
     "data": {
      "image/png": "[encoded data removed]",
      "text/plain": [
       "<Figure size 576x216 with 4 Axes>"
      ]
     },
     "metadata": {},
     "output_type": "display_data"
    }
   ],
   "source": [
    "T1.plot.pie(subplots = True,\n",
    "           legend = None,\n",
    "           layout = (1,4),\n",
    "           autopct = lambda x : str(round(x)) + '%',\n",
    "           figsize = (8,3),\n",
    "           colors = ['pink', 'gray'],\n",
    "           wedgeprops = {'edgecolor' : 'black'},\n",
    "           fontsize = 14\n",
    "          )"
   ]
  },
  {
   "cell_type": "code",
   "execution_count": null,
   "id": "f556a4dc-b2ea-4ff2-bee5-8b66b4b2b058",
   "metadata": {},
   "outputs": [],
   "source": []
  },
  {
   "cell_type": "code",
   "execution_count": null,
   "id": "b41f1018-08ca-4d60-8cae-6f33fccb40f3",
   "metadata": {},
   "outputs": [],
   "source": []
  }
 ],
 "metadata": {
  "kernelspec": {
   "display_name": "Python 3 (ipykernel)",
   "language": "python",
   "name": "python3"
  },
  "language_info": {
   "codemirror_mode": {
    "name": "ipython",
    "version": 3
   },
   "file_extension": ".py",
   "mimetype": "text/x-python",
   "name": "python",
   "nbconvert_exporter": "python",
   "pygments_lexer": "ipython3",
   "version": "3.9.12"
  }
 },
 "nbformat": 4,
 "nbformat_minor": 5
}
